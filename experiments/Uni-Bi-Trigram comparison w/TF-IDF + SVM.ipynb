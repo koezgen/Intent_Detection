{
 "cells": [
  {
   "metadata": {
    "ExecuteTime": {
     "end_time": "2025-01-05T10:53:46.516018Z",
     "start_time": "2025-01-05T10:53:46.352587Z"
    }
   },
   "cell_type": "code",
   "source": [
    "# Import necessary libraries\n",
    "import os\n",
    "import json\n",
    "from sklearn.feature_extraction.text import TfidfVectorizer\n",
    "from sklearn.svm import LinearSVC\n",
    "from sklearn.metrics import classification_report, accuracy_score, f1_score\n",
    "import matplotlib.pyplot as plt\n",
    "import seaborn as sns\n"
   ],
   "id": "d3d41b58b3dc9d4b",
   "outputs": [],
   "execution_count": 5
  },
  {
   "cell_type": "code",
   "id": "initial_id",
   "metadata": {
    "collapsed": true,
    "ExecuteTime": {
     "end_time": "2025-01-05T10:54:28.248733Z",
     "start_time": "2025-01-05T10:54:28.240826Z"
    }
   },
   "source": [
    "# Define paths for train and test data\n",
    "train_path = \"train_test_split/train.json\"\n",
    "test_path = \"train_test_split/test.json\"\n",
    "\n",
    "# Load the data\n",
    "def load_data(json_path):\n",
    "    with open(json_path, \"r\", encoding=\"utf-8\") as f:\n",
    "        data = json.load(f)\n",
    "    texts = [item[\"text\"] for item in data]\n",
    "    intents = [item[\"intent\"] for item in data]\n",
    "    return texts, intents\n",
    "\n",
    "# Load train and test data\n",
    "X_train, y_train = load_data(train_path)\n",
    "X_test, y_test = load_data(test_path)\n",
    "\n",
    "# Print sample data\n",
    "print(f\"Sample training text: {X_train[0]}\")\n",
    "print(f\"Sample training intent: {y_train[0]}\")\n"
   ],
   "outputs": [
    {
     "name": "stdout",
     "output_type": "stream",
     "text": [
      "Sample training text: BOS i want to fly from boston at 838 am and arrive in denver at 1110 in the morning EOS\n",
      "Sample training intent: flight\n"
     ]
    }
   ],
   "execution_count": 7
  },
  {
   "metadata": {
    "ExecuteTime": {
     "end_time": "2025-01-05T10:55:26.497987Z",
     "start_time": "2025-01-05T10:55:26.387382Z"
    }
   },
   "cell_type": "code",
   "source": [
    "# Unigram TF-IDF\n",
    "tfidf_uni = TfidfVectorizer(ngram_range=(1, 1), stop_words=\"english\")\n",
    "X_train_uni = tfidf_uni.fit_transform(X_train)\n",
    "X_test_uni = tfidf_uni.transform(X_test)\n",
    "\n",
    "# SVM Model Training for Unigram\n",
    "svm_uni = LinearSVC()\n",
    "svm_uni.fit(X_train_uni, y_train)\n",
    "\n",
    "# Predictions\n",
    "y_pred_uni = svm_uni.predict(X_test_uni)\n",
    "\n",
    "# Evaluation\n",
    "accuracy_uni = accuracy_score(y_test, y_pred_uni)\n",
    "f1_uni = f1_score(y_test, y_pred_uni, average=\"weighted\")\n",
    "print(f\"Unigram Model - Accuracy: {accuracy_uni:.4f}, F1-Score: {f1_uni:.4f}\")\n",
    "print(classification_report(y_test, y_pred_uni))\n"
   ],
   "id": "b31d33fbe928ca71",
   "outputs": [
    {
     "name": "stdout",
     "output_type": "stream",
     "text": [
      "Unigram Model - Accuracy: 0.9295, F1-Score: 0.9167\n",
      "                   precision    recall  f1-score   support\n",
      "\n",
      "     abbreviation       1.00      0.91      0.95        33\n",
      "         aircraft       0.47      1.00      0.64         9\n",
      "          airfare       0.83      0.92      0.87        48\n",
      "   airfare+flight       0.00      0.00      0.00         1\n",
      "          airline       1.00      0.87      0.93        38\n",
      "          airport       1.00      0.78      0.88        18\n",
      "         capacity       0.88      0.67      0.76        21\n",
      "             city       1.00      0.33      0.50         6\n",
      "         day_name       0.00      0.00      0.00         2\n",
      "         distance       1.00      1.00      1.00        10\n",
      "           flight       0.94      0.99      0.97       632\n",
      "   flight+airfare       0.00      0.00      0.00        12\n",
      "   flight+airline       0.00      0.00      0.00         1\n",
      "        flight_no       1.00      0.75      0.86         8\n",
      "flight_no+airline       0.00      0.00      0.00         1\n",
      "      flight_time       1.00      1.00      1.00         1\n",
      "      ground_fare       1.00      0.29      0.44         7\n",
      "   ground_service       0.90      1.00      0.95        36\n",
      "             meal       1.00      0.33      0.50         6\n",
      "         quantity       0.00      0.00      0.00         3\n",
      "\n",
      "         accuracy                           0.93       893\n",
      "        macro avg       0.65      0.54      0.56       893\n",
      "     weighted avg       0.92      0.93      0.92       893\n",
      "\n"
     ]
    },
    {
     "name": "stderr",
     "output_type": "stream",
     "text": [
      "C:\\Users\\erdem\\PycharmProjects\\cs411-pp3\\.venv\\Lib\\site-packages\\sklearn\\metrics\\_classification.py:1565: UndefinedMetricWarning: Precision is ill-defined and being set to 0.0 in labels with no predicted samples. Use `zero_division` parameter to control this behavior.\n",
      "  _warn_prf(average, modifier, f\"{metric.capitalize()} is\", len(result))\n",
      "C:\\Users\\erdem\\PycharmProjects\\cs411-pp3\\.venv\\Lib\\site-packages\\sklearn\\metrics\\_classification.py:1565: UndefinedMetricWarning: Precision is ill-defined and being set to 0.0 in labels with no predicted samples. Use `zero_division` parameter to control this behavior.\n",
      "  _warn_prf(average, modifier, f\"{metric.capitalize()} is\", len(result))\n",
      "C:\\Users\\erdem\\PycharmProjects\\cs411-pp3\\.venv\\Lib\\site-packages\\sklearn\\metrics\\_classification.py:1565: UndefinedMetricWarning: Precision is ill-defined and being set to 0.0 in labels with no predicted samples. Use `zero_division` parameter to control this behavior.\n",
      "  _warn_prf(average, modifier, f\"{metric.capitalize()} is\", len(result))\n"
     ]
    }
   ],
   "execution_count": 8
  },
  {
   "metadata": {
    "ExecuteTime": {
     "end_time": "2025-01-05T10:55:45.820470Z",
     "start_time": "2025-01-05T10:55:45.695039Z"
    }
   },
   "cell_type": "code",
   "source": [
    "# Bigram TF-IDF\n",
    "tfidf_bi = TfidfVectorizer(ngram_range=(1, 2), stop_words=\"english\")\n",
    "X_train_bi = tfidf_bi.fit_transform(X_train)\n",
    "X_test_bi = tfidf_bi.transform(X_test)\n",
    "\n",
    "# SVM Model Training for Bigram\n",
    "svm_bi = LinearSVC()\n",
    "svm_bi.fit(X_train_bi, y_train)\n",
    "\n",
    "# Predictions\n",
    "y_pred_bi = svm_bi.predict(X_test_bi)\n",
    "\n",
    "# Evaluation\n",
    "accuracy_bi = accuracy_score(y_test, y_pred_bi)\n",
    "f1_bi = f1_score(y_test, y_pred_bi, average=\"weighted\")\n",
    "print(f\"Bigram Model - Accuracy: {accuracy_bi:.4f}, F1-Score: {f1_bi:.4f}\")\n",
    "print(classification_report(y_test, y_pred_bi))\n"
   ],
   "id": "dcd3d67bce57df6d",
   "outputs": [
    {
     "name": "stdout",
     "output_type": "stream",
     "text": [
      "Bigram Model - Accuracy: 0.9373, F1-Score: 0.9239\n",
      "                   precision    recall  f1-score   support\n",
      "\n",
      "     abbreviation       1.00      0.91      0.95        33\n",
      "         aircraft       0.64      1.00      0.78         9\n",
      "          airfare       0.90      0.92      0.91        48\n",
      "   airfare+flight       0.00      0.00      0.00         1\n",
      "          airline       1.00      0.92      0.96        38\n",
      "          airport       1.00      0.94      0.97        18\n",
      "         capacity       1.00      0.90      0.95        21\n",
      "             city       1.00      0.50      0.67         6\n",
      "         day_name       0.00      0.00      0.00         2\n",
      "         distance       1.00      0.80      0.89        10\n",
      "           flight       0.94      0.99      0.97       632\n",
      "   flight+airfare       1.00      0.08      0.15        12\n",
      "   flight+airline       0.00      0.00      0.00         1\n",
      "        flight_no       1.00      0.38      0.55         8\n",
      "flight_no+airline       0.00      0.00      0.00         1\n",
      "      flight_time       1.00      1.00      1.00         1\n",
      "      ground_fare       1.00      0.14      0.25         7\n",
      "   ground_service       0.86      1.00      0.92        36\n",
      "             meal       1.00      0.33      0.50         6\n",
      "         quantity       0.00      0.00      0.00         3\n",
      "\n",
      "         accuracy                           0.94       893\n",
      "        macro avg       0.72      0.54      0.57       893\n",
      "     weighted avg       0.93      0.94      0.92       893\n",
      "\n"
     ]
    },
    {
     "name": "stderr",
     "output_type": "stream",
     "text": [
      "C:\\Users\\erdem\\PycharmProjects\\cs411-pp3\\.venv\\Lib\\site-packages\\sklearn\\metrics\\_classification.py:1565: UndefinedMetricWarning: Precision is ill-defined and being set to 0.0 in labels with no predicted samples. Use `zero_division` parameter to control this behavior.\n",
      "  _warn_prf(average, modifier, f\"{metric.capitalize()} is\", len(result))\n",
      "C:\\Users\\erdem\\PycharmProjects\\cs411-pp3\\.venv\\Lib\\site-packages\\sklearn\\metrics\\_classification.py:1565: UndefinedMetricWarning: Precision is ill-defined and being set to 0.0 in labels with no predicted samples. Use `zero_division` parameter to control this behavior.\n",
      "  _warn_prf(average, modifier, f\"{metric.capitalize()} is\", len(result))\n",
      "C:\\Users\\erdem\\PycharmProjects\\cs411-pp3\\.venv\\Lib\\site-packages\\sklearn\\metrics\\_classification.py:1565: UndefinedMetricWarning: Precision is ill-defined and being set to 0.0 in labels with no predicted samples. Use `zero_division` parameter to control this behavior.\n",
      "  _warn_prf(average, modifier, f\"{metric.capitalize()} is\", len(result))\n"
     ]
    }
   ],
   "execution_count": 9
  },
  {
   "metadata": {
    "ExecuteTime": {
     "end_time": "2025-01-05T10:55:58.263482Z",
     "start_time": "2025-01-05T10:55:58.093116Z"
    }
   },
   "cell_type": "code",
   "source": [
    "# Trigram TF-IDF\n",
    "tfidf_tri = TfidfVectorizer(ngram_range=(1, 3), stop_words=\"english\")\n",
    "X_train_tri = tfidf_tri.fit_transform(X_train)\n",
    "X_test_tri = tfidf_tri.transform(X_test)\n",
    "\n",
    "# SVM Model Training for Trigram\n",
    "svm_tri = LinearSVC()\n",
    "svm_tri.fit(X_train_tri, y_train)\n",
    "\n",
    "# Predictions\n",
    "y_pred_tri = svm_tri.predict(X_test_tri)\n",
    "\n",
    "# Evaluation\n",
    "accuracy_tri = accuracy_score(y_test, y_pred_tri)\n",
    "f1_tri = f1_score(y_test, y_pred_tri, average=\"weighted\")\n",
    "print(f\"Trigram Model - Accuracy: {accuracy_tri:.4f}, F1-Score: {f1_tri:.4f}\")\n",
    "print(classification_report(y_test, y_pred_tri))\n"
   ],
   "id": "b6860d45393cf7af",
   "outputs": [
    {
     "name": "stdout",
     "output_type": "stream",
     "text": [
      "Trigram Model - Accuracy: 0.9250, F1-Score: 0.9068\n",
      "                   precision    recall  f1-score   support\n",
      "\n",
      "     abbreviation       1.00      0.91      0.95        33\n",
      "         aircraft       0.60      1.00      0.75         9\n",
      "          airfare       0.90      0.90      0.90        48\n",
      "   airfare+flight       0.00      0.00      0.00         1\n",
      "          airline       1.00      0.89      0.94        38\n",
      "          airport       0.94      0.83      0.88        18\n",
      "         capacity       1.00      0.81      0.89        21\n",
      "             city       1.00      0.50      0.67         6\n",
      "         day_name       0.00      0.00      0.00         2\n",
      "         distance       1.00      0.70      0.82        10\n",
      "           flight       0.93      0.99      0.96       632\n",
      "   flight+airfare       0.00      0.00      0.00        12\n",
      "   flight+airline       0.00      0.00      0.00         1\n",
      "        flight_no       1.00      0.38      0.55         8\n",
      "flight_no+airline       0.00      0.00      0.00         1\n",
      "      flight_time       0.00      0.00      0.00         1\n",
      "      ground_fare       0.00      0.00      0.00         7\n",
      "   ground_service       0.84      1.00      0.91        36\n",
      "             meal       1.00      0.17      0.29         6\n",
      "         quantity       0.00      0.00      0.00         3\n",
      "\n",
      "         accuracy                           0.92       893\n",
      "        macro avg       0.56      0.45      0.48       893\n",
      "     weighted avg       0.90      0.92      0.91       893\n",
      "\n"
     ]
    },
    {
     "name": "stderr",
     "output_type": "stream",
     "text": [
      "C:\\Users\\erdem\\PycharmProjects\\cs411-pp3\\.venv\\Lib\\site-packages\\sklearn\\metrics\\_classification.py:1565: UndefinedMetricWarning: Precision is ill-defined and being set to 0.0 in labels with no predicted samples. Use `zero_division` parameter to control this behavior.\n",
      "  _warn_prf(average, modifier, f\"{metric.capitalize()} is\", len(result))\n",
      "C:\\Users\\erdem\\PycharmProjects\\cs411-pp3\\.venv\\Lib\\site-packages\\sklearn\\metrics\\_classification.py:1565: UndefinedMetricWarning: Precision is ill-defined and being set to 0.0 in labels with no predicted samples. Use `zero_division` parameter to control this behavior.\n",
      "  _warn_prf(average, modifier, f\"{metric.capitalize()} is\", len(result))\n",
      "C:\\Users\\erdem\\PycharmProjects\\cs411-pp3\\.venv\\Lib\\site-packages\\sklearn\\metrics\\_classification.py:1565: UndefinedMetricWarning: Precision is ill-defined and being set to 0.0 in labels with no predicted samples. Use `zero_division` parameter to control this behavior.\n",
      "  _warn_prf(average, modifier, f\"{metric.capitalize()} is\", len(result))\n"
     ]
    }
   ],
   "execution_count": 10
  },
  {
   "metadata": {
    "ExecuteTime": {
     "end_time": "2025-01-05T10:57:41.866245Z",
     "start_time": "2025-01-05T10:57:41.806727Z"
    }
   },
   "cell_type": "code",
   "source": [
    "import numpy as np\n",
    "\n",
    "# Data for visualization\n",
    "results = {\n",
    "    \"Model\": [\"Unigram\", \"Bigram\", \"Trigram\"],\n",
    "    \"Accuracy\": [accuracy_uni, accuracy_bi, accuracy_tri],\n",
    "    \"F1-Score\": [f1_uni, f1_bi, f1_tri]\n",
    "}\n",
    "\n",
    "# Convert to numpy arrays for easier manipulation\n",
    "models = np.arange(len(results[\"Model\"]))  # [0, 1, 2]\n",
    "accuracy = results[\"Accuracy\"]\n",
    "f1_scores = results[\"F1-Score\"]\n",
    "\n",
    "# Bar width for separation\n",
    "bar_width = 0.4\n",
    "\n",
    "# Plot\n",
    "plt.figure(figsize=(10, 6))\n",
    "plt.bar(models - bar_width/2, accuracy, bar_width, label=\"Accuracy\", color=\"blue\")\n",
    "plt.bar(models + bar_width/2, f1_scores, bar_width, label=\"F1-Score\", color=\"green\")\n",
    "\n",
    "# Add labels and title\n",
    "plt.xticks(models, results[\"Model\"])  # Add model names to x-axis\n",
    "plt.title(\"Model Comparison: Accuracy and F1-Score\")\n",
    "plt.ylabel(\"Score\")\n",
    "plt.xlabel(\"Model Type\")\n",
    "plt.ylim(0, 1.0)\n",
    "plt.legend(loc=\"upper left\")\n",
    "plt.grid(axis='y', linestyle='--', alpha=0.7)\n",
    "\n",
    "# Show plot\n",
    "plt.show()\n"
   ],
   "id": "8d6f800717911d22",
   "outputs": [
    {
     "data": {
      "text/plain": [
       "<Figure size 1000x600 with 1 Axes>"
      ],
      "image/png": "[encoded data removed]"
     },
     "metadata": {},
     "output_type": "display_data"
    }
   ],
   "execution_count": 12
  }
 ],
 "metadata": {
  "kernelspec": {
   "display_name": "Python 3",
   "language": "python",
   "name": "python3"
  },
  "language_info": {
   "codemirror_mode": {
    "name": "ipython",
    "version": 2
   },
   "file_extension": ".py",
   "mimetype": "text/x-python",
   "name": "python",
   "nbconvert_exporter": "python",
   "pygments_lexer": "ipython2",
   "version": "2.7.6"
  }
 },
 "nbformat": 4,
 "nbformat_minor": 5
}
