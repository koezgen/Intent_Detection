{
 "cells": [
  {
   "cell_type": "code",
   "execution_count": 8,
   "metadata": {},
   "outputs": [],
   "source": [
    "import json\n",
    "import pandas as pd\n",
    "from sklearn.model_selection import train_test_split\n",
    "from sklearn.feature_extraction.text import TfidfVectorizer, CountVectorizer\n",
    "from sklearn.linear_model import LogisticRegression\n",
    "from sklearn.pipeline import Pipeline\n",
    "from sklearn.compose import ColumnTransformer\n",
    "from sklearn.metrics import classification_report, f1_score"
   ]
  },
  {
   "cell_type": "code",
   "execution_count": 9,
   "metadata": {},
   "outputs": [],
   "source": [
    "def load_combined_dataset(json_path):\n",
    "    \"\"\"\n",
    "    Reads the combined dataset JSON and returns it as a Python list of dicts.\n",
    "    Each item has: { \"tokens\": [...], \"ner_tags\": [...], \"intent\": \"...\" }\n",
    "    \"\"\"\n",
    "    with open(json_path, \"r\", encoding=\"utf-8\") as f:\n",
    "        data = json.load(f)\n",
    "    return data"
   ]
  },
  {
   "cell_type": "code",
   "execution_count": 10,
   "metadata": {},
   "outputs": [],
   "source": [
    "def main():\n",
    "    # -------------------------------------------------------\n",
    "    # 1. Load & Prepare the Data\n",
    "    # -------------------------------------------------------\n",
    "    combined_dataset_path = \"../train_test_split/train_combined.json\"\n",
    "    data = load_combined_dataset(combined_dataset_path)\n",
    "    \n",
    "    # Convert to DataFrame\n",
    "    df = pd.DataFrame(data)\n",
    "    # df has columns: \"tokens\", \"ner_tags\", \"intent\"\n",
    "\n",
    "    # Create a \"text\" column by joining tokens\n",
    "    df[\"text\"] = df[\"tokens\"].apply(lambda ts: \" \".join(ts))\n",
    "\n",
    "    # Create a \"entity_text\" column by joining the NER tags\n",
    "    df[\"entity_text\"] = df[\"ner_tags\"].apply(lambda tags: \" \".join(tags))\n",
    "\n",
    "    # The label\n",
    "    y_intent = df[\"intent\"]\n",
    "\n",
    "    # -------------------------------------------------------\n",
    "    # 2. Build a Feature Pipeline\n",
    "    # -------------------------------------------------------\n",
    "    text_tfidf = (\"text_tfidf\", TfidfVectorizer(), \"text\")\n",
    "    entity_tfidf = (\"entity_tfidf\", TfidfVectorizer(), \"entity_text\")\n",
    "\n",
    "    feature_union = ColumnTransformer(\n",
    "        [text_tfidf, entity_tfidf],\n",
    "        remainder=\"drop\"\n",
    "    )\n",
    "\n",
    "    pipeline = Pipeline([\n",
    "        (\"features\", feature_union),\n",
    "        (\"clf\", LogisticRegression(max_iter=1000, random_state=42))\n",
    "    ])\n",
    "    \n",
    "    # -------------------------------------------------------\n",
    "    # 3. Train/Test Split & Fit\n",
    "    # -------------------------------------------------------\n",
    "    X_train, X_test, y_train, y_test = train_test_split(\n",
    "        df, y_intent, test_size=0.2, random_state=42\n",
    "    )\n",
    "\n",
    "    pipeline.fit(X_train, y_train)\n",
    "    \n",
    "    # -------------------------------------------------------\n",
    "    # 4. Evaluate\n",
    "    # -------------------------------------------------------\n",
    "    y_pred = pipeline.predict(X_test)\n",
    "    \n",
    "    # Print the classification report (includes per-class F1)\n",
    "    print(\"Classification Report:\")\n",
    "    print(classification_report(y_test, y_pred))\n",
    "\n",
    "    # Print the overall F1 score (macro average)\n",
    "    macro_f1 = f1_score(y_test, y_pred, average=\"macro\")\n",
    "    print(f\"Overall Macro F1 Score: {macro_f1:.3f}\")\n",
    "    \n",
    "    # (Optional) You could also print other averages:\n",
    "    # weighted_f1 = f1_score(y_test, y_pred, average=\"weighted\")\n",
    "    # print(f\"Overall Weighted F1 Score: {weighted_f1:.3f}\")"
   ]
  },
  {
   "cell_type": "code",
   "execution_count": 11,
   "metadata": {},
   "outputs": [
    {
     "name": "stdout",
     "output_type": "stream",
     "text": [
      "Classification Report:\n",
      "                           precision    recall  f1-score   support\n",
      "\n",
      "             abbreviation       0.82      0.90      0.86        20\n",
      "                 aircraft       0.91      0.67      0.77        15\n",
      "aircraft+flight+flight_no       0.00      0.00      0.00         1\n",
      "                  airfare       0.89      0.87      0.88        86\n",
      "                  airline       0.97      0.76      0.85        37\n",
      "                  airport       1.00      0.33      0.50         3\n",
      "                 capacity       1.00      1.00      1.00         2\n",
      "                     city       0.00      0.00      0.00         6\n",
      "                 distance       1.00      1.00      1.00         1\n",
      "                   flight       0.95      0.99      0.97       752\n",
      "           flight+airfare       0.00      0.00      0.00         5\n",
      "                flight_no       0.00      0.00      0.00         4\n",
      "              flight_time       0.67      0.75      0.71         8\n",
      "              ground_fare       0.00      0.00      0.00         1\n",
      "           ground_service       0.91      0.95      0.93        42\n",
      "                     meal       0.00      0.00      0.00         1\n",
      "                 quantity       1.00      0.60      0.75        10\n",
      "              restriction       0.00      0.00      0.00         2\n",
      "\n",
      "                 accuracy                           0.93       996\n",
      "                macro avg       0.56      0.49      0.51       996\n",
      "             weighted avg       0.92      0.93      0.92       996\n",
      "\n",
      "Overall Macro F1 Score: 0.512\n"
     ]
    },
    {
     "name": "stderr",
     "output_type": "stream",
     "text": [
      "C:\\Users\\kanat\\AppData\\Local\\Packages\\PythonSoftwareFoundation.Python.3.12_qbz5n2kfra8p0\\LocalCache\\local-packages\\Python312\\site-packages\\sklearn\\metrics\\_classification.py:1531: UndefinedMetricWarning: Precision is ill-defined and being set to 0.0 in labels with no predicted samples. Use `zero_division` parameter to control this behavior.\n",
      "  _warn_prf(average, modifier, f\"{metric.capitalize()} is\", len(result))\n",
      "C:\\Users\\kanat\\AppData\\Local\\Packages\\PythonSoftwareFoundation.Python.3.12_qbz5n2kfra8p0\\LocalCache\\local-packages\\Python312\\site-packages\\sklearn\\metrics\\_classification.py:1531: UndefinedMetricWarning: Precision is ill-defined and being set to 0.0 in labels with no predicted samples. Use `zero_division` parameter to control this behavior.\n",
      "  _warn_prf(average, modifier, f\"{metric.capitalize()} is\", len(result))\n",
      "C:\\Users\\kanat\\AppData\\Local\\Packages\\PythonSoftwareFoundation.Python.3.12_qbz5n2kfra8p0\\LocalCache\\local-packages\\Python312\\site-packages\\sklearn\\metrics\\_classification.py:1531: UndefinedMetricWarning: Precision is ill-defined and being set to 0.0 in labels with no predicted samples. Use `zero_division` parameter to control this behavior.\n",
      "  _warn_prf(average, modifier, f\"{metric.capitalize()} is\", len(result))\n"
     ]
    }
   ],
   "source": [
    "if __name__ == \"__main__\":\n",
    "    main()"
   ]
  }
 ],
 "metadata": {
  "kernelspec": {
   "display_name": "Python 3",
   "language": "python",
   "name": "python3"
  },
  "language_info": {
   "codemirror_mode": {
    "name": "ipython",
    "version": 3
   },
   "file_extension": ".py",
   "mimetype": "text/x-python",
   "name": "python",
   "nbconvert_exporter": "python",
   "pygments_lexer": "ipython3",
   "version": "3.12.8"
  }
 },
 "nbformat": 4,
 "nbformat_minor": 2
}
